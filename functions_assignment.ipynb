{
  "nbformat": 4,
  "nbformat_minor": 0,
  "metadata": {
    "colab": {
      "provenance": []
    },
    "kernelspec": {
      "name": "python3",
      "display_name": "Python 3"
    },
    "language_info": {
      "name": "python"
    }
  },
  "cells": [
    {
      "cell_type": "code",
      "execution_count": null,
      "metadata": {
        "id": "8gJeqQcp4YGs"
      },
      "outputs": [],
      "source": []
    },
    {
      "cell_type": "markdown",
      "source": [
        "**THEORY PART**\n"
      ],
      "metadata": {
        "id": "HxrYLiLtL157"
      }
    },
    {
      "cell_type": "markdown",
      "source": [
        "**1. What is the difference between a function and a method in Python?**\n",
        "\n",
        "1. **Function:**\n",
        "   A function is a block of code that is defined using the def keyword and can be called independently of any object or class.\n",
        "\n",
        "   It can accept parameters, perform some operations, and return a result.\n",
        "\n",
        "  Functions are not bound to a specific object or class.\n",
        "\n"
      ],
      "metadata": {
        "id": "d9UZ_ZUL4sok"
      }
    },
    {
      "cell_type": "code",
      "source": [
        "# example:\n",
        "def namaste(name):\n",
        "  return f\"hello dear ,{name} !\"\n"
      ],
      "metadata": {
        "id": "g6MAlKn45sfj"
      },
      "execution_count": null,
      "outputs": []
    },
    {
      "cell_type": "code",
      "source": [
        "namaste(\"AJAY KUMAR GUPTA\")"
      ],
      "metadata": {
        "colab": {
          "base_uri": "https://localhost:8080/",
          "height": 36
        },
        "id": "nfDZipYE6Ipa",
        "outputId": "b327b5dd-9cf6-4655-ee11-2259a74a3074"
      },
      "execution_count": null,
      "outputs": [
        {
          "output_type": "execute_result",
          "data": {
            "text/plain": [
              "'hello dear ,AJAY KUMAR GUPTA !'"
            ],
            "application/vnd.google.colaboratory.intrinsic+json": {
              "type": "string"
            }
          },
          "metadata": {},
          "execution_count": 2
        }
      ]
    },
    {
      "cell_type": "markdown",
      "source": [
        " **Method:**\n",
        "\n",
        " A method is a function that is associated with an object or class.\n",
        "\n",
        " Methods are defined within a class and are typically called on instances of that class (though they can also be called on the class itself).\n",
        "  \n",
        " Methods always take at least one argument, self, which refers to the instance of the object.\n",
        "\n",
        "\n"
      ],
      "metadata": {
        "id": "vGmKoD1e6WVV"
      }
    },
    {
      "cell_type": "code",
      "source": [
        "class Calculator:\n",
        "    def add(self, a, b):\n",
        "        return a + b\n",
        "\n",
        "calc = Calculator()  # Create an instance of Calculator\n",
        "result = calc.add(3,15)  # Calling the method on an instance\n",
        "print(result)"
      ],
      "metadata": {
        "colab": {
          "base_uri": "https://localhost:8080/"
        },
        "id": "FlLtTIEcURHw",
        "outputId": "5f663ee9-a1be-428d-e4a7-6523408dfdbf"
      },
      "execution_count": 1,
      "outputs": [
        {
          "output_type": "stream",
          "name": "stdout",
          "text": [
            "18\n"
          ]
        }
      ]
    },
    {
      "cell_type": "markdown",
      "source": [],
      "metadata": {
        "id": "liOVZWl6UZYo"
      }
    },
    {
      "cell_type": "markdown",
      "source": [
        "\n",
        "\n",
        "---\n",
        "\n",
        "\n",
        "2. **Explain the concept of function\n",
        "\n",
        "arguments and parameters in Python.**\n",
        "\n",
        " *Function Parameters*\n",
        "\n",
        " **Parameters** are the names listed in the function definition. They act as placeholders for the values that will be passed into the function when it is called.\n",
        "\n",
        " Parameters define the structure of the function and what inputs the function expects."
      ],
      "metadata": {
        "id": "OANTi4pFUgsK"
      }
    },
    {
      "cell_type": "code",
      "source": [
        "\n",
        "def greet(name, age):  # 'name' and 'age' are parameters\n",
        "    print(f\"Hello {name}, you are {age} years old.\")\n",
        "\n"
      ],
      "metadata": {
        "id": "H9WzSyDRVLYz"
      },
      "execution_count": 2,
      "outputs": []
    },
    {
      "cell_type": "markdown",
      "source": [],
      "metadata": {
        "id": "NxzyhOVN6UmG"
      }
    },
    {
      "cell_type": "markdown",
      "source": [
        "**Function Arguments**\n",
        "\n",
        " Arguments are the actual values or expressions passed to the function when it is called.\n",
        "\n",
        " The values passed to the parameters are referred to as arguments.\n",
        "\n",
        " Example:\n",
        "\n",
        "greet(\"menka\", 30)  # \"Alice\" and 30 are arguments"
      ],
      "metadata": {
        "id": "L1eKKyDoVjE_"
      }
    },
    {
      "cell_type": "markdown",
      "source": [],
      "metadata": {
        "id": "VAiWpp9pMMX3"
      }
    },
    {
      "cell_type": "markdown",
      "source": [
        "\n",
        "3. **What are the different ways to define and call a function in Python?**\n",
        "\n",
        "In Python, there are several ways to define and call functions.\n",
        "\n",
        "**Defining and Calling a Regular Function**\n",
        "\n",
        "A regular function is defined using the def keyword. You can call the function by its name and pass arguments (if any)."
      ],
      "metadata": {
        "id": "wRwweVkxWC_z"
      }
    },
    {
      "cell_type": "code",
      "source": [
        "# defining the function\n",
        "def students(name):\n",
        "  print(f\"hello PDPS student ,{name}\")\n",
        ""
      ],
      "metadata": {
        "id": "THVa83pyWmi5"
      },
      "execution_count": 3,
      "outputs": []
    },
    {
      "cell_type": "code",
      "source": [
        "students(\"menka kumari\")"
      ],
      "metadata": {
        "colab": {
          "base_uri": "https://localhost:8080/"
        },
        "id": "KR8qztKdXERa",
        "outputId": "b1361447-60b5-4c52-8577-bd7f10fd7a88"
      },
      "execution_count": 4,
      "outputs": [
        {
          "output_type": "stream",
          "name": "stdout",
          "text": [
            "hello PDPS student ,menka kumari\n"
          ]
        }
      ]
    },
    {
      "cell_type": "code",
      "source": [],
      "metadata": {
        "id": "Z-PJ5g8eXFOr"
      },
      "execution_count": null,
      "outputs": []
    },
    {
      "cell_type": "markdown",
      "source": [
        "**Defining and Calling a Function with Default Parameters**\n",
        "\n",
        "You can define default values for parameters.\n",
        "If arguments for those parameters are not passed when calling the function, the default values will be used.\n",
        ""
      ],
      "metadata": {
        "id": "umwXCFlxXNx8"
      }
    },
    {
      "cell_type": "code",
      "source": [
        "def greet(name, age=30):\n",
        "    print(f\"Hello, {name}! You are {age} years old.\")"
      ],
      "metadata": {
        "id": "YuIh99e6czT0"
      },
      "execution_count": 15,
      "outputs": []
    },
    {
      "cell_type": "code",
      "source": [
        "# Calling the function with both arguments\n",
        "greet(\"Alice\", 25)"
      ],
      "metadata": {
        "colab": {
          "base_uri": "https://localhost:8080/"
        },
        "id": "xhjPu-NCij0p",
        "outputId": "dd7bd3a8-292c-4ad5-924b-5706b16bf453"
      },
      "execution_count": 16,
      "outputs": [
        {
          "output_type": "stream",
          "name": "stdout",
          "text": [
            "Hello, Alice! You are 25 years old.\n"
          ]
        }
      ]
    },
    {
      "cell_type": "code",
      "source": [
        "# Calling the function with just one argument (age will use default)\n",
        "greet(\"ajay\")"
      ],
      "metadata": {
        "colab": {
          "base_uri": "https://localhost:8080/"
        },
        "id": "D1CmrAvtitj6",
        "outputId": "fd7af840-670b-406e-87a4-f21800023cd7"
      },
      "execution_count": 17,
      "outputs": [
        {
          "output_type": "stream",
          "name": "stdout",
          "text": [
            "Hello, ajay! You are 30 years old.\n"
          ]
        }
      ]
    },
    {
      "cell_type": "markdown",
      "source": [
        "**Defining and Calling a Function with Variable-Length Arguments**"
      ],
      "metadata": {
        "id": "hQRjh2r4jKf8"
      }
    },
    {
      "cell_type": "markdown",
      "source": [
        "\n",
        "(*args and **kwargs)\n",
        "\n",
        "*args: Used for passing a variable number of positional arguments (non-keyword).\n",
        "\n",
        "**kwargs: Used for passing a variable number of keyword arguments (key-value pairs)."
      ],
      "metadata": {
        "id": "5Jm7UEHEjPBD"
      }
    },
    {
      "cell_type": "markdown",
      "source": [
        "**Example with *args (Non-keyword variable-length arguments):**\n",
        "\n",
        "\n"
      ],
      "metadata": {
        "id": "UrHuwiojkIvv"
      }
    },
    {
      "cell_type": "code",
      "source": [
        "# Function that accepts any number of positional arguments\n",
        "def total(*args):\n",
        "  return sum(args)"
      ],
      "metadata": {
        "id": "0-vulLWFkQ-i"
      },
      "execution_count": 18,
      "outputs": []
    },
    {
      "cell_type": "code",
      "source": [
        "# Calling the function with different numbers of arguments\n",
        "total(4,5,9)"
      ],
      "metadata": {
        "colab": {
          "base_uri": "https://localhost:8080/"
        },
        "id": "nDEznddvk3li",
        "outputId": "65a42ad0-a5b8-4725-931f-89bd189e8122"
      },
      "execution_count": 19,
      "outputs": [
        {
          "output_type": "execute_result",
          "data": {
            "text/plain": [
              "18"
            ]
          },
          "metadata": {},
          "execution_count": 19
        }
      ]
    },
    {
      "cell_type": "code",
      "source": [
        "print(total(4,5,6))"
      ],
      "metadata": {
        "colab": {
          "base_uri": "https://localhost:8080/"
        },
        "id": "wNT0qUKDlA7U",
        "outputId": "5800e55f-2e04-4d34-fdc2-5211eeb742f8"
      },
      "execution_count": 20,
      "outputs": [
        {
          "output_type": "stream",
          "name": "stdout",
          "text": [
            "15\n"
          ]
        }
      ]
    },
    {
      "cell_type": "code",
      "source": [],
      "metadata": {
        "id": "9O-g66zAlLne"
      },
      "execution_count": null,
      "outputs": []
    },
    {
      "cell_type": "markdown",
      "source": [
        "**Example with **kwargs (Keyword variable-length arguments):**\n",
        "\n",
        "\n",
        "\n"
      ],
      "metadata": {
        "id": "JichoT5ClOxo"
      }
    },
    {
      "cell_type": "code",
      "source": [
        "# Function that accepts any number of keyword arguments\n",
        "def details(**kwargs):\n",
        "    for key, value in kwargs.items():\n",
        "        print(f\"{key}: {value}\")"
      ],
      "metadata": {
        "id": "F5soSZRclWtr"
      },
      "execution_count": 22,
      "outputs": []
    },
    {
      "cell_type": "code",
      "source": [
        "# Calling the function with keyword arguments\n",
        "details(coffee=\"nescafe\",dinner=\"chana masala\")"
      ],
      "metadata": {
        "colab": {
          "base_uri": "https://localhost:8080/"
        },
        "id": "baaRpUeP6EMO",
        "outputId": "6ec0581e-0a4b-4d1d-fc91-150f2ece6719"
      },
      "execution_count": 23,
      "outputs": [
        {
          "output_type": "stream",
          "name": "stdout",
          "text": [
            "coffee: nescafe\n",
            "dinner: chana masala\n"
          ]
        }
      ]
    },
    {
      "cell_type": "markdown",
      "source": [
        "**Defining and Calling Lambda Functions (Anonymous Functions)**\n",
        "\n"
      ],
      "metadata": {
        "id": "01t41INj6jBG"
      }
    },
    {
      "cell_type": "code",
      "source": [
        " # Defining a lambda function\n",
        " sub =lambda x,y:x-y\n",
        " # Calling the lambda function\n",
        " sub(15,10)"
      ],
      "metadata": {
        "colab": {
          "base_uri": "https://localhost:8080/"
        },
        "id": "eTh9Kl8Y6mw4",
        "outputId": "76dee41c-b725-457c-ffca-d2d0e0a87f42"
      },
      "execution_count": 28,
      "outputs": [
        {
          "output_type": "execute_result",
          "data": {
            "text/plain": [
              "5"
            ]
          },
          "metadata": {},
          "execution_count": 28
        }
      ]
    },
    {
      "cell_type": "code",
      "source": [],
      "metadata": {
        "id": "4plQAUWO7E8U"
      },
      "execution_count": null,
      "outputs": []
    },
    {
      "cell_type": "markdown",
      "source": [
        "\n",
        "\n",
        "\n",
        "---\n",
        "\n",
        "\n",
        "4.**What is the purpose of the `return` statement in a Python function?**\n",
        "\n",
        "The return statement in a Python function serves several important purposes:\n",
        "\n",
        "**Exiting the Function**\n",
        "\n",
        "The return statement causes the function to immediately terminate and exit, regardless of where it appears in the function body. After return is executed, the function’s execution stops, and no further code inside the function is executed.\n",
        "\n",
        "**Returning a Value**\n",
        "\n",
        "The primary purpose of the return statement is to send a value (or multiple values) back to the caller. The value(s) returned can be assigned to a variable or used in expressions.\n",
        "\n"
      ],
      "metadata": {
        "id": "W-NZC-nt7XrJ"
      }
    },
    {
      "cell_type": "code",
      "source": [
        "def add(a, b):\n",
        "    return a + b"
      ],
      "metadata": {
        "id": "8vklWdmZ9RcL"
      },
      "execution_count": 29,
      "outputs": []
    },
    {
      "cell_type": "code",
      "source": [
        "sum=add(10,9)"
      ],
      "metadata": {
        "id": "zb-4VqOl9Ybg"
      },
      "execution_count": 31,
      "outputs": []
    },
    {
      "cell_type": "code",
      "source": [
        "print(sum)"
      ],
      "metadata": {
        "colab": {
          "base_uri": "https://localhost:8080/"
        },
        "id": "unIHHcc09gTI",
        "outputId": "768f7d1f-ba8c-41b6-b75c-3f490f570c14"
      },
      "execution_count": 32,
      "outputs": [
        {
          "output_type": "stream",
          "name": "stdout",
          "text": [
            "19\n"
          ]
        }
      ]
    },
    {
      "cell_type": "code",
      "source": [],
      "metadata": {
        "id": "of3KyyqQ9n8a"
      },
      "execution_count": null,
      "outputs": []
    },
    {
      "cell_type": "markdown",
      "source": [
        "**Optional Return**\n",
        "\n",
        "A return statement is optional in Python functions. If no return statement is provided, or if the function reaches the end without encountering a return, the function will implicitly return None."
      ],
      "metadata": {
        "id": "q0ESzmoX91Us"
      }
    },
    {
      "cell_type": "code",
      "source": [
        "def coffe_name(type):\n",
        "    print(f\"{type},is expensive\")"
      ],
      "metadata": {
        "id": "rOjB3gBG99VC"
      },
      "execution_count": 33,
      "outputs": []
    },
    {
      "cell_type": "code",
      "source": [
        "a=coffe_name(\"nescafe\")"
      ],
      "metadata": {
        "colab": {
          "base_uri": "https://localhost:8080/"
        },
        "id": "-wvGsuQC-RMi",
        "outputId": "d1b9ab32-64ea-4870-ec3e-a9bba14f9128"
      },
      "execution_count": 36,
      "outputs": [
        {
          "output_type": "stream",
          "name": "stdout",
          "text": [
            "nescafe,is expensive\n"
          ]
        }
      ]
    },
    {
      "cell_type": "code",
      "source": [],
      "metadata": {
        "id": "98yogiya-iqH"
      },
      "execution_count": null,
      "outputs": []
    },
    {
      "cell_type": "markdown",
      "source": [
        "\n",
        "\n",
        "---\n",
        "\n",
        "\n",
        "5. **What are iterators in Python and how do they differ from iterables?**\n",
        "\n",
        "In Python, iterators and iterables are closely related concepts that deal with looping over data, but they are distinct in terms of how they work\n",
        "\n",
        "**Iterable**\n",
        "\n",
        "An iterable is any Python object capable of returning its members one at a time. This means the object can be used in a for loop or be passed to functions like iter(). Essentially, an iterable is any object that can be iterated over.\n",
        "\n"
      ],
      "metadata": {
        "id": "X8JYWcJQ-7A0"
      }
    },
    {
      "cell_type": "code",
      "source": [
        "list=[1,2,3,4,56,7,8,9]\n",
        "for i in list:\n",
        "  print(i)"
      ],
      "metadata": {
        "colab": {
          "base_uri": "https://localhost:8080/"
        },
        "id": "CX3yKWjj_ht7",
        "outputId": "f27ad3cb-a591-4c8c-9655-ec9ac6b37430"
      },
      "execution_count": 37,
      "outputs": [
        {
          "output_type": "stream",
          "name": "stdout",
          "text": [
            "1\n",
            "2\n",
            "3\n",
            "4\n",
            "56\n",
            "7\n",
            "8\n",
            "9\n"
          ]
        }
      ]
    },
    {
      "cell_type": "markdown",
      "source": [
        "**Iterator**\n",
        "\n",
        "An iterator is an object that represents a stream of data and is used to iterate over an iterable.\n",
        "\n",
        "\n",
        "*  __iter__(): This returns the iterator object itself. This is needed so that an iterable can be converted into an iterator.\n",
        "*  __next__(): This returns the next item from the sequence.\n",
        "\n",
        "\n"
      ],
      "metadata": {
        "id": "DDRZ6xFn_0e6"
      }
    },
    {
      "cell_type": "code",
      "source": [
        "my_list=[\"menka\",\"ajay\",65]\n",
        "# Get an iterator for the list\n",
        "iterator=iter(my_list)"
      ],
      "metadata": {
        "id": "tis51SNYAdSC"
      },
      "execution_count": 38,
      "outputs": []
    },
    {
      "cell_type": "code",
      "source": [
        "next(iterator)"
      ],
      "metadata": {
        "colab": {
          "base_uri": "https://localhost:8080/",
          "height": 36
        },
        "id": "rSYlXh__A8HL",
        "outputId": "d7d038d6-c80b-49df-cf5f-b0c8f0a7a72e"
      },
      "execution_count": 39,
      "outputs": [
        {
          "output_type": "execute_result",
          "data": {
            "text/plain": [
              "'menka'"
            ],
            "application/vnd.google.colaboratory.intrinsic+json": {
              "type": "string"
            }
          },
          "metadata": {},
          "execution_count": 39
        }
      ]
    },
    {
      "cell_type": "code",
      "source": [
        "next(iterator)"
      ],
      "metadata": {
        "colab": {
          "base_uri": "https://localhost:8080/",
          "height": 36
        },
        "id": "s065McTtBEUq",
        "outputId": "56187636-3f7f-41af-bcd5-3adb7b15a9a1"
      },
      "execution_count": 40,
      "outputs": [
        {
          "output_type": "execute_result",
          "data": {
            "text/plain": [
              "'ajay'"
            ],
            "application/vnd.google.colaboratory.intrinsic+json": {
              "type": "string"
            }
          },
          "metadata": {},
          "execution_count": 40
        }
      ]
    },
    {
      "cell_type": "code",
      "source": [],
      "metadata": {
        "id": "1XgwHxSnBIck"
      },
      "execution_count": null,
      "outputs": []
    },
    {
      "cell_type": "markdown",
      "source": [
        "\n",
        "\n",
        "---\n",
        "\n",
        "\n",
        "6. **Explain the concept of generators in Python and how they are defined.**\n",
        "\n",
        "A generator is a type of iterable in Python that allows you to create a sequence of values lazily, meaning it generates values one at a time only when requested. Unlike regular functions that return a value and exit, **generators yield values one by one**, which makes them more memory-efficient when dealing with large datasets or infinite sequences.\n",
        "\n",
        "**Defining a Generator**\n",
        "\n"
      ],
      "metadata": {
        "id": "QEWZO6ckBja0"
      }
    },
    {
      "cell_type": "code",
      "source": [
        "def count_till(n):\n",
        "    count=1\n",
        "    while count<=n:\n",
        "        yield count\n",
        "        count+=1"
      ],
      "metadata": {
        "id": "5zy1VESbCbwI"
      },
      "execution_count": 41,
      "outputs": []
    },
    {
      "cell_type": "code",
      "source": [
        "a=count_till(5)"
      ],
      "metadata": {
        "id": "HHRyPDV8CySS"
      },
      "execution_count": 42,
      "outputs": []
    },
    {
      "cell_type": "code",
      "source": [
        "a"
      ],
      "metadata": {
        "colab": {
          "base_uri": "https://localhost:8080/"
        },
        "id": "90qRxY9TC8hd",
        "outputId": "5da036b7-3d6a-4551-9a7b-c5d4f1f24fea"
      },
      "execution_count": 43,
      "outputs": [
        {
          "output_type": "execute_result",
          "data": {
            "text/plain": [
              "<generator object count_till at 0x7afe653ca330>"
            ]
          },
          "metadata": {},
          "execution_count": 43
        }
      ]
    },
    {
      "cell_type": "code",
      "source": [
        "for i in a:\n",
        "  print(i)"
      ],
      "metadata": {
        "colab": {
          "base_uri": "https://localhost:8080/"
        },
        "id": "W4oW33npC9fF",
        "outputId": "dfdec5ca-2c9d-45c8-9a0b-c32ccf5a8e0c"
      },
      "execution_count": 44,
      "outputs": [
        {
          "output_type": "stream",
          "name": "stdout",
          "text": [
            "1\n",
            "2\n",
            "3\n",
            "4\n",
            "5\n"
          ]
        }
      ]
    },
    {
      "cell_type": "markdown",
      "source": [
        "\n",
        "\n",
        "---\n",
        "\n",
        "\n",
        "7. **What are the advantages of using generators over regular functions?**\n",
        "\n",
        "**Memory Efficiency**\n",
        "\n",
        "Generators do not store the entire sequence in memory.\n",
        "\n",
        "Unlike regular functions that return a complete data structure (like a list or tuple), generators yield one item at a time, which means they don’t need to allocate memory for the entire sequence at once.\n",
        "\n",
        " This is particularly beneficial when working with large datasets or infinite sequences.\n"
      ],
      "metadata": {
        "id": "usz8XyEdDYcJ"
      }
    },
    {
      "cell_type": "code",
      "source": [
        "def generate_large_range():\n",
        "    for i in range(10**8):  # Large range\n",
        "        yield i"
      ],
      "metadata": {
        "id": "mW-uognSEJ6J"
      },
      "execution_count": 45,
      "outputs": []
    },
    {
      "cell_type": "code",
      "source": [
        "a=generate_large_range()"
      ],
      "metadata": {
        "id": "kP6oXE38EQ1Z"
      },
      "execution_count": 46,
      "outputs": []
    },
    {
      "cell_type": "code",
      "source": [
        "next(a)"
      ],
      "metadata": {
        "colab": {
          "base_uri": "https://localhost:8080/"
        },
        "id": "xbJMLVrJEWI7",
        "outputId": "75c20b3d-51d5-4a40-b07f-cf68f33370c6"
      },
      "execution_count": 47,
      "outputs": [
        {
          "output_type": "execute_result",
          "data": {
            "text/plain": [
              "0"
            ]
          },
          "metadata": {},
          "execution_count": 47
        }
      ]
    },
    {
      "cell_type": "code",
      "source": [
        "next(a)"
      ],
      "metadata": {
        "colab": {
          "base_uri": "https://localhost:8080/"
        },
        "id": "HlafLHzvEchl",
        "outputId": "94c77c2f-023d-43be-ff5f-c6221a44eb0e"
      },
      "execution_count": 48,
      "outputs": [
        {
          "output_type": "execute_result",
          "data": {
            "text/plain": [
              "1"
            ]
          },
          "metadata": {},
          "execution_count": 48
        }
      ]
    },
    {
      "cell_type": "code",
      "source": [
        "next(a)"
      ],
      "metadata": {
        "colab": {
          "base_uri": "https://localhost:8080/"
        },
        "id": "Eo2mO11nEgFG",
        "outputId": "d36fdc52-a1c5-4fa5-ed63-f072bd716477"
      },
      "execution_count": 49,
      "outputs": [
        {
          "output_type": "execute_result",
          "data": {
            "text/plain": [
              "2"
            ]
          },
          "metadata": {},
          "execution_count": 49
        }
      ]
    },
    {
      "cell_type": "markdown",
      "source": [
        "**Memory Efficiency:**\n",
        "\n",
        "They generate values on-the-fly, reducing memory usage by not storing the entire sequence.\n",
        "\n",
        "**Lazy Evaluation:**\n",
        "\n",
        "They compute values as needed, making them suitable for processing large or streaming data.\n",
        "\n",
        "\n",
        "**Infinite Sequences**:\n",
        "\n",
        " Generators can handle infinite sequences without running out of memory.\n",
        "\n",
        "**Performance:**  \n",
        "\n",
        "They are ideal for large-scale data processing where you can start working with the data immediately."
      ],
      "metadata": {
        "id": "t270Y0JEEumo"
      }
    },
    {
      "cell_type": "markdown",
      "source": [
        "\n",
        "\n",
        "---\n",
        "\n",
        "\n",
        "8. **What is a lambda function in Python and when is it typically used?**\n",
        "\n",
        "\n",
        "A lambda function in Python is an anonymous (unnamed) function that is defined using the lambda keyword, instead of the regular def keyword. Lambda functions are concise and typically used for small, single-use operations that don’t require the formal definition of a full function.\n",
        "\n",
        "Lambda functions are commonly used in situations where you need a small, throwaway function for a short time. They are often used in conjunction with other functions that take functions as arguments, such as higher-order functions or built-in functions like map(), filter(), and sorted()."
      ],
      "metadata": {
        "id": "1ssFJ9HAFDde"
      }
    },
    {
      "cell_type": "markdown",
      "source": [
        "9.**Explain the purpose and usage of the `map()` function in Python.**\n",
        "\n",
        "The map() function in Python is a higher-order function that allows you to apply a given function to each item in an iterable (like a list, tuple, or set) and returns an iterator (map object) that yields the results of the function applied to each element.\n"
      ],
      "metadata": {
        "id": "k0BqO9RPFelN"
      }
    },
    {
      "cell_type": "code",
      "source": [],
      "metadata": {
        "id": "zCGswYigFvnQ"
      },
      "execution_count": null,
      "outputs": []
    },
    {
      "cell_type": "code",
      "source": [
        "numbers = [1, 2, 3, 4, 5]\n",
        "# Define a function that squares a number\n",
        "def square(x):\n",
        "    return x ** 2"
      ],
      "metadata": {
        "id": "fGTvU_otFsvh"
      },
      "execution_count": 50,
      "outputs": []
    },
    {
      "cell_type": "code",
      "source": [
        "squared_num=map(square,numbers)"
      ],
      "metadata": {
        "id": "y_Mwh7wYF62j"
      },
      "execution_count": 51,
      "outputs": []
    },
    {
      "cell_type": "code",
      "source": [],
      "metadata": {
        "id": "wcQ_0KrfGaxT"
      },
      "execution_count": null,
      "outputs": []
    },
    {
      "cell_type": "markdown",
      "source": [
        "\n",
        "\n",
        "---\n",
        "\n",
        "\n",
        "10. **What is the difference between `map()`, `reduce()`, and `filter()` functions in Python?**\n",
        "\n",
        "1. **map() Function**\n",
        "\n",
        "\n",
        "Purpose:\n",
        "\n",
        "map() is used to apply a given function to each item in an iterable (or multiple iterables) and return an iterator with the transformed results.\n",
        "\n",
        "2. **reduce() Function**\n",
        "\n",
        "Purpose:\n",
        "\n",
        "reduce() is used to apply a given function cumulatively to the items of an iterable, from left to right, so that the iterable is reduced to a single cumulative result.\n",
        "\n",
        "3. **filter() Function**\n",
        "\n",
        "Purpose:\n",
        "\n",
        "filter() is used to filter out elements in an iterable based on a condition defined by a function. It returns an iterator with only the elements that satisfy the condition (where the function returns True).\n"
      ],
      "metadata": {
        "id": "7Avnv_W0Gs9H"
      }
    },
    {
      "cell_type": "markdown",
      "source": [],
      "metadata": {
        "id": "b3SnLR4RHdry"
      }
    },
    {
      "cell_type": "markdown",
      "source": [
        "**Practical Questions:**\n",
        "\n",
        "1. **Write a Python function that takes a list of numbers as input and returns the sum of all even numbers in\n",
        "the list.**"
      ],
      "metadata": {
        "id": "Hlklj8xNHglf"
      }
    },
    {
      "cell_type": "code",
      "source": [
        "def sum_even_numbers(numbers):\n",
        "    even_sum = 0\n",
        "    for num in numbers:\n",
        "        if num % 2 == 0:\n",
        "            even_sum += num\n",
        "    return even_sum"
      ],
      "metadata": {
        "id": "zzBVAiLlIRnl"
      },
      "execution_count": 58,
      "outputs": []
    },
    {
      "cell_type": "code",
      "source": [],
      "metadata": {
        "id": "rYTp_8L9I4b_"
      },
      "execution_count": null,
      "outputs": []
    },
    {
      "cell_type": "markdown",
      "source": [
        "\n",
        "2. **Create a Python function that\n",
        "\n",
        "---\n",
        "\n",
        "accepts a string and returns the reverse of that string.**\n",
        "\n"
      ],
      "metadata": {
        "id": "0YrM7hakI-7H"
      }
    },
    {
      "cell_type": "code",
      "source": [
        "def reverse_string(input_string):\n",
        "    # Return the reverse of the string using slicing\n",
        "    return input_string[::-1]\n",
        "\n",
        "# Example usage:\n",
        "input_string = \"hello\"\n",
        "result = reverse_string(input_string)\n",
        "print(result)  # Output: \"olleh\""
      ],
      "metadata": {
        "colab": {
          "base_uri": "https://localhost:8080/"
        },
        "id": "IFCIfMKHJJKe",
        "outputId": "3f72e9ef-a359-4927-9cd5-4bd7dcaf0ded"
      },
      "execution_count": 59,
      "outputs": [
        {
          "output_type": "stream",
          "name": "stdout",
          "text": [
            "olleh\n"
          ]
        }
      ]
    },
    {
      "cell_type": "code",
      "source": [],
      "metadata": {
        "id": "paEru4A8JKmr"
      },
      "execution_count": null,
      "outputs": []
    },
    {
      "cell_type": "markdown",
      "source": [
        "\n",
        "\n",
        "---\n",
        "\n",
        "\n",
        "3. **Implement a Python function that takes a list of integers and returns a new list containing the squares of\n",
        "each number.**\n",
        "\n"
      ],
      "metadata": {
        "id": "sy4zeF7WJRTA"
      }
    },
    {
      "cell_type": "code",
      "source": [
        "def square_numbers(numbers):\n",
        "    # Use a list comprehension to square each number\n",
        "    return [x ** 2 for x in numbers]\n",
        "\n",
        "# Example usage:\n",
        "numbers = [1, 2, 3, 4, 5]\n",
        "squared_numbers = square_numbers(numbers)\n",
        "print(squared_numbers)  # Output: [1, 4, 9, 16, 25]d"
      ],
      "metadata": {
        "colab": {
          "base_uri": "https://localhost:8080/"
        },
        "id": "igogti2BJcKx",
        "outputId": "f3a571a6-1d9d-48bc-9f1f-74237979b824"
      },
      "execution_count": 61,
      "outputs": [
        {
          "output_type": "stream",
          "name": "stdout",
          "text": [
            "[1, 4, 9, 16, 25]\n"
          ]
        }
      ]
    },
    {
      "cell_type": "code",
      "source": [],
      "metadata": {
        "id": "H6mKNSKkJdTf"
      },
      "execution_count": null,
      "outputs": []
    },
    {
      "cell_type": "markdown",
      "source": [
        "\n",
        "\n",
        "---\n",
        "\n",
        "\n",
        "4. **Write a Python function that checks if a given number is prime or not from 1 to 200.**\n",
        "\n"
      ],
      "metadata": {
        "id": "XET-WRiwJjDI"
      }
    },
    {
      "cell_type": "code",
      "source": [
        "def is_prime(number):\n",
        "    if number <= 1:\n",
        "        return False  # Numbers less than or equal to 1 are not prime\n",
        "    for i in range(2, int(number ** 0.5) + 1):\n",
        "        if number % i == 0:\n",
        "            return False  # If divisible by any number other than 1 and itself, it's not prime\n",
        "    return True  # If no divisors found, the number is prime\n",
        "\n",
        "# Example usage:\n",
        "for num in range(1, 10):\n",
        "    if is_prime(num):\n",
        "        print(num, \"is prime\")"
      ],
      "metadata": {
        "colab": {
          "base_uri": "https://localhost:8080/"
        },
        "id": "pDVs4JMBJujK",
        "outputId": "95898c07-bd68-4a43-d491-7972f49c0c5e"
      },
      "execution_count": 63,
      "outputs": [
        {
          "output_type": "stream",
          "name": "stdout",
          "text": [
            "2 is prime\n",
            "3 is prime\n",
            "5 is prime\n",
            "7 is prime\n"
          ]
        }
      ]
    },
    {
      "cell_type": "code",
      "source": [],
      "metadata": {
        "id": "kxmB98gBJv53"
      },
      "execution_count": null,
      "outputs": []
    },
    {
      "cell_type": "markdown",
      "source": [
        "\n",
        "\n",
        "---\n",
        "\n",
        "\n",
        "5. **Create an iterator class in Python that generates the Fibonacci sequence up to a specified number of\n",
        "terms.**\n",
        "\n"
      ],
      "metadata": {
        "id": "5k0tetlHJ3bA"
      }
    },
    {
      "cell_type": "code",
      "source": [
        "class FibonacciIterator:\n",
        "    def __init__(self, terms):\n",
        "        self.terms = terms  # Number of terms in the Fibonacci sequence\n",
        "        self.a, self.b = 0, 1  # Initial values for the Fibonacci sequence\n",
        "        self.count = 0  # Counter to track the number of terms generated\n",
        "\n",
        "    def __iter__(self):\n",
        "        return self  # The class itself is the iterator\n",
        "\n",
        "    def __next__(self):\n",
        "        if self.count < self.terms:\n",
        "            fib_number = self.a\n",
        "            self.a, self.b = self.b, self.a + self.b  # Update a and b to the next Fibonacci numbers\n",
        "            self.count += 1\n",
        "            return fib_number\n",
        "        else:\n",
        "            raise StopIteration  # Stop iteration once the specified number of terms is reached\n",
        "\n",
        "# Example usage:\n",
        "fibonacci_sequence = FibonacciIterator(10)  # Generate the first 10 terms of the Fibonacci sequence\n",
        "\n",
        "for number in fibonacci_sequence:\n",
        "    print(number)\n",
        "\n"
      ],
      "metadata": {
        "colab": {
          "base_uri": "https://localhost:8080/"
        },
        "id": "B1ak0b_UKCxa",
        "outputId": "d70a63e8-846a-4db2-db44-2411d2d5e0e7"
      },
      "execution_count": 64,
      "outputs": [
        {
          "output_type": "stream",
          "name": "stdout",
          "text": [
            "0\n",
            "1\n",
            "1\n",
            "2\n",
            "3\n",
            "5\n",
            "8\n",
            "13\n",
            "21\n",
            "34\n"
          ]
        }
      ]
    },
    {
      "cell_type": "code",
      "source": [],
      "metadata": {
        "id": "Wy9jDrxGKFta"
      },
      "execution_count": null,
      "outputs": []
    },
    {
      "cell_type": "markdown",
      "source": [
        "\n",
        "\n",
        "---\n",
        "\n",
        "\n",
        "6. **Write a generator function in Python that yields the powers of 2 up to a given exponent.**\n",
        "\n"
      ],
      "metadata": {
        "id": "t4gdk07bKMzN"
      }
    },
    {
      "cell_type": "code",
      "source": [
        "def powers_of_two(exponent):\n",
        "    for i in range(exponent + 1):\n",
        "        yield 2 ** i\n",
        "\n",
        "# Example usage:\n",
        "for power in powers_of_two(5):\n",
        "    print(power)"
      ],
      "metadata": {
        "colab": {
          "base_uri": "https://localhost:8080/"
        },
        "id": "4yixauGVKXNd",
        "outputId": "93af701b-0822-4a06-d84c-c0a0b0505dcd"
      },
      "execution_count": 65,
      "outputs": [
        {
          "output_type": "stream",
          "name": "stdout",
          "text": [
            "1\n",
            "2\n",
            "4\n",
            "8\n",
            "16\n",
            "32\n"
          ]
        }
      ]
    },
    {
      "cell_type": "code",
      "source": [],
      "metadata": {
        "id": "dFRkR-J6KaGN"
      },
      "execution_count": null,
      "outputs": []
    },
    {
      "cell_type": "markdown",
      "source": [
        "7. **Implement a generator function that reads a file line by line and yields each line as a string.**\n",
        "\n"
      ],
      "metadata": {
        "id": "eFrPa6ZoKgVe"
      }
    },
    {
      "cell_type": "code",
      "source": [],
      "metadata": {
        "id": "DsabnWgVK2fU"
      },
      "execution_count": null,
      "outputs": []
    },
    {
      "cell_type": "markdown",
      "source": [
        "\n",
        "\n",
        "---\n",
        "\n",
        "\n",
        "9. **Write a Python program that uses `map()` to convert a list of temperatures from Celsius to Fahrenheit.**"
      ],
      "metadata": {
        "id": "6BzkJEBULHcB"
      }
    },
    {
      "cell_type": "code",
      "source": [
        "def celsius_to_fahrenheit(celsius):\n",
        "    return (celsius * 9/5) + 32\n",
        "\n"
      ],
      "metadata": {
        "id": "OMDRTB57LMlv"
      },
      "execution_count": 71,
      "outputs": []
    },
    {
      "cell_type": "code",
      "source": [
        "# Example list of temperatures in Celsius\n",
        "celsius_temperatures = [0, 20, 37, 100, -10]\n",
        "\n"
      ],
      "metadata": {
        "id": "KLPhC5w_LQBJ"
      },
      "execution_count": 73,
      "outputs": []
    },
    {
      "cell_type": "code",
      "source": [
        "# Use map() to apply the celsius_to_fahrenheit function to each element in the list\n",
        "fahrenheit_temperatures = map(celsius_to_fahrenheit, celsius_temperatures)"
      ],
      "metadata": {
        "id": "hQgAzgBFLjl3"
      },
      "execution_count": 74,
      "outputs": []
    },
    {
      "cell_type": "code",
      "source": [],
      "metadata": {
        "id": "blsWY842LuXI"
      },
      "execution_count": null,
      "outputs": []
    }
  ]
}